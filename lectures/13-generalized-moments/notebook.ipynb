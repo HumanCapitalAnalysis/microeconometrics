{
 "cells": [
  {
   "cell_type": "code",
   "execution_count": 1,
   "metadata": {},
   "outputs": [],
   "source": [
    "import statsmodels.formula.api as smf\n",
    "import matplotlib.pyplot as plt\n",
    "import pandas as pd\n",
    "import numpy as np\n",
    "\n",
    "# fancy imports\n",
    "from scipy.optimize import minimize\n",
    "from linearmodels.iv import IV2SLS\n",
    "from functools import partial\n",
    "from scipy.stats import norm\n",
    "\n",
    "np.random.seed(123)"
   ]
  },
  {
   "cell_type": "markdown",
   "metadata": {},
   "source": [
    "## Generalized method of moments"
   ]
  },
  {
   "cell_type": "markdown",
   "metadata": {},
   "source": [
    "This notebook accompanies the lecture slides on the *Generalized method of moments*. \n",
    "\n",
    "* **Example 1** We study a simulated sample that can be estimated by ordinary least squares regression to illustrate its unifying principles.\n",
    "\n",
    "* **Example 2** We study a simulated sample that can be estimated by instrumental variables methods."
   ]
  },
  {
   "cell_type": "code",
   "execution_count": 1,
   "metadata": {},
   "outputs": [],
   "source": [
    "def get_sample_1(num_agents, beta, seed=123):\n",
    "\n",
    "    random_sampling = partial(np.random.normal, size=num_agents)\n",
    "    np.random.seed(seed)\n",
    "\n",
    "    X = random_sampling(scale=10)\n",
    "    eps = random_sampling()\n",
    "\n",
    "    Y = 1 + beta * X + eps\n",
    "\n",
    "    index = pd.Index(range(num_agents), name=\"Identifier\")\n",
    "    columns = [\"Y\", \"X\"]\n",
    "    df = pd.DataFrame(np.vstack((Y, X)).T, columns=columns, index=index)\n",
    "    return df\n",
    "\n",
    "\n",
    "def get_moments(df, beta):\n",
    "    residuals = df[\"Y\"] - (1 + beta * df[\"X\"])\n",
    "    moments = df[\"X\"] * residuals\n",
    "    return np.mean(moments)"
   ]
  },
  {
   "cell_type": "markdown",
   "metadata": {},
   "source": [
    "### How does the empirical moment at the truth change as we increase the sample size?"
   ]
  },
  {
   "cell_type": "code",
   "execution_count": 3,
   "metadata": {},
   "outputs": [
    {
     "data": {
      "image/png": "[encoded data removed]",
      "text/plain": [
       "<Figure size 432x288 with 1 Axes>"
      ]
     },
     "metadata": {
      "needs_background": "light"
     },
     "output_type": "display_data"
    }
   ],
   "source": [
    "beta, rslt = 0.2, list()\n",
    "\n",
    "# We iterate over different sample sizes.\n",
    "grid = np.linspace(100, 1000000, num=100, dtype=int)\n",
    "for num_agents in grid:\n",
    "\n",
    "    # We simulate a sample and compute the residuals a\n",
    "    moment = get_moments(get_sample_1(num_agents, beta), beta)\n",
    "    rslt.append(moment)\n",
    "\n",
    "ax = plt.plot(rslt)\n",
    "plt.axhline(y=0, color=\"r\")"
   ]
  },
  {
   "cell_type": "markdown",
   "metadata": {},
   "source": [
    "### How does a GMM estimation look like?"
   ]
  },
  {
   "cell_type": "code",
   "execution_count": 4,
   "metadata": {},
   "outputs": [
    {
     "data": {
      "text/plain": [
       "      fun: 5.510400060594885e-13\n",
       " hess_inv: array([[5.03694767e-05]])\n",
       "      jac: array([-5.57720085e-11])\n",
       "  message: 'Optimization terminated successfully.'\n",
       "     nfev: 15\n",
       "      nit: 4\n",
       "     njev: 5\n",
       "   status: 0\n",
       "  success: True\n",
       "        x: array([7.00055904])"
      ]
     },
     "execution_count": 4,
     "metadata": {},
     "output_type": "execute_result"
    }
   ],
   "source": [
    "df = get_sample_1(num_agents=10000, beta=7)\n",
    "\n",
    "\n",
    "def criterion_function_gmm(beta, df):\n",
    "    moments = get_moments(df, beta)\n",
    "    # Where is weighting matrix?\n",
    "    return np.square(np.mean(moments))\n",
    "\n",
    "\n",
    "rslt = minimize(criterion_function_gmm, 0.0, args=(df,), method=\"BFGS\")\n",
    "rslt"
   ]
  },
  {
   "cell_type": "markdown",
   "metadata": {},
   "source": [
    "### How does an OLS estimation look like?"
   ]
  },
  {
   "cell_type": "code",
   "execution_count": 5,
   "metadata": {},
   "outputs": [
    {
     "name": "stdout",
     "output_type": "stream",
     "text": [
      "OLS Estimate  7.0005490\n"
     ]
    }
   ],
   "source": [
    "rslt = smf.ols(\"Y ~ X\", data=df).fit()\n",
    "print(\"OLS Estimate \", \"{:5.7f}\".format(rslt.params[1]))"
   ]
  },
  {
   "cell_type": "markdown",
   "metadata": {},
   "source": [
    "### How does a standard MLE estimation look like?"
   ]
  },
  {
   "cell_type": "code",
   "execution_count": 6,
   "metadata": {},
   "outputs": [
    {
     "name": "stderr",
     "output_type": "stream",
     "text": [
      "/home/peisenha/local/anaconda3/envs/teaching-microeconometrics/lib/python3.7/site-packages/ipykernel_launcher.py:7: RuntimeWarning: divide by zero encountered in log\n",
      "  import sys\n"
     ]
    },
    {
     "data": {
      "text/plain": [
       "   direc: array([[1.]])\n",
       "     fun: 1.4215364807667554\n",
       " message: 'Optimization terminated successfully.'\n",
       "    nfev: 50\n",
       "     nit: 2\n",
       "  status: 0\n",
       " success: True\n",
       "       x: array(7.00055905)"
      ]
     },
     "execution_count": 6,
     "metadata": {},
     "output_type": "execute_result"
    }
   ],
   "source": [
    "def get_residuals(df, beta):\n",
    "    residuals = df[\"Y\"] - (1 + beta * df[\"X\"])\n",
    "    return residuals\n",
    "\n",
    "\n",
    "def criterion_function_mle(beta, df):\n",
    "    residuals = get_residuals(df, beta)\n",
    "    rslt = np.clip(np.log(norm.pdf(residuals)), -10e6, None)\n",
    "    return -np.mean(rslt)\n",
    "\n",
    "\n",
    "rslt = minimize(criterion_function_mle, 0.0, args=(df,), method=\"Powell\")\n",
    "rslt"
   ]
  },
  {
   "cell_type": "markdown",
   "metadata": {},
   "source": [
    "### Example 2"
   ]
  },
  {
   "cell_type": "code",
   "execution_count": 7,
   "metadata": {},
   "outputs": [],
   "source": [
    "def get_sample_2(num_agents, beta, seed=123):\n",
    "\n",
    "    # Setup of sample simulation\n",
    "    random_sampling = partial(np.random.normal, size=num_agents)\n",
    "    np.random.seed(seed)\n",
    "\n",
    "    # Create canvas for data frame\n",
    "    index = pd.Index(range(num_agents), name=\"Identifier\")\n",
    "    columns = [\"Y\", \"X\", \"Z1\", \"Z2\"]\n",
    "    df = pd.DataFrame(columns=columns, index=index)\n",
    "\n",
    "    for label in [\"Z1\", \"Z2\"]:\n",
    "        df[label] = random_sampling(scale=10)\n",
    "    C = random_sampling(scale=10)\n",
    "\n",
    "    df[\"X\"] = C + df[[\"Z1\", \"Z2\"]].sum(axis=1) + random_sampling()\n",
    "    U = C + random_sampling()\n",
    "\n",
    "    df[\"Y\"] = 1 + beta * df[\"X\"] + U\n",
    "\n",
    "    return df\n",
    "\n",
    "\n",
    "df = get_sample_2(num_agents=10000, beta=7)"
   ]
  },
  {
   "cell_type": "markdown",
   "metadata": {},
   "source": [
    "### How does an OLS estimate look like?"
   ]
  },
  {
   "cell_type": "code",
   "execution_count": 8,
   "metadata": {},
   "outputs": [
    {
     "name": "stdout",
     "output_type": "stream",
     "text": [
      "OLS Estimate  7.325\n"
     ]
    }
   ],
   "source": [
    "rslt = smf.ols(\"Y ~ X\", data=df).fit()\n",
    "print(\"OLS Estimate \", \"{:5.3f}\".format(rslt.params[1]))"
   ]
  },
  {
   "cell_type": "markdown",
   "metadata": {},
   "source": [
    "### How does an IV estimate look like?"
   ]
  },
  {
   "cell_type": "code",
   "execution_count": 9,
   "metadata": {},
   "outputs": [
    {
     "name": "stdout",
     "output_type": "stream",
     "text": [
      "IV Estimate  6.985\n"
     ]
    }
   ],
   "source": [
    "rslt = IV2SLS.from_formula(\"Y ~ 1 + [X ~ Z1 + Z2]\", df).fit()\n",
    "print(\"IV Estimate \", \"{:5.3f}\".format(rslt.params[1]))"
   ]
  },
  {
   "cell_type": "markdown",
   "metadata": {},
   "source": [
    "### How does a GMM estimation look like?"
   ]
  },
  {
   "cell_type": "code",
   "execution_count": 10,
   "metadata": {},
   "outputs": [
    {
     "name": "stdout",
     "output_type": "stream",
     "text": [
      "GMM Estimate  6.985\n"
     ]
    }
   ],
   "source": [
    "def get_moments(df, beta):\n",
    "    residuals = df[\"Y\"] - (1 + beta * df[\"X\"])\n",
    "\n",
    "    moments = list()\n",
    "    for label in [\"Z1\", \"Z2\"]:\n",
    "        moments.append(np.mean(df[label] * residuals))\n",
    "\n",
    "    return moments\n",
    "\n",
    "\n",
    "def criterion_function_gmm(beta, df, weighing_matrix=np.identity(2)):\n",
    "    moments = get_moments(df, beta)\n",
    "    rslt = np.dot(np.dot(moments, weighing_matrix), moments)\n",
    "    return rslt\n",
    "\n",
    "\n",
    "rslt = minimize(criterion_function_gmm, 0.0, args=(df), method=\"Powell\")\n",
    "print(\"GMM Estimate \", \"{:5.3f}\".format(rslt.x))"
   ]
  }
 ],
 "metadata": {
  "kernelspec": {
   "display_name": "Python 3",
   "language": "python",
   "name": "python3"
  },
  "language_info": {
   "codemirror_mode": {
    "name": "ipython",
    "version": 3
   },
   "file_extension": ".py",
   "mimetype": "text/x-python",
   "name": "python",
   "nbconvert_exporter": "python",
   "pygments_lexer": "ipython3",
   "version": "3.7.7"
  },
  "pycharm": {
   "stem_cell": {
    "cell_type": "raw",
    "metadata": {
     "collapsed": false
    },
    "source": []
   }
  }
 },
 "nbformat": 4,
 "nbformat_minor": 4
}
