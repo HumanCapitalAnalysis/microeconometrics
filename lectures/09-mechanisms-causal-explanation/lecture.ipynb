{
 "cells": [
  {
   "cell_type": "markdown",
   "metadata": {},
   "source": [
    "# Lecture 9: Mechanisms and causal explanation"
   ]
  },
  {
   "cell_type": "markdown",
   "metadata": {
    "pycharm": {},
    "slideshow": {
     "slide_type": "slide"
    }
   },
   "source": [
    "**Overview**\n",
    "\n",
    "* The dangers of insufficiently deep explanations\n",
    "\n",
    "* The front-door criterion and identification of causal effects by mechanisms\n",
    "\n",
    "* The appeal for generative mechanisms\n",
    "\n",
    "* The pursuit of explanation with mechanisms that bottom out\n",
    "\n",
    "* Conclusions"
   ]
  },
  {
   "cell_type": "markdown",
   "metadata": {},
   "source": [
    "## The dangers of insufficiently deep explanations"
   ]
  },
  {
   "cell_type": "markdown",
   "metadata": {},
   "source": [
    "We only identify total effects for selected subpopulations that are not necessarily of great economic interest.\n",
    "\n",
    "<img src=\"material/fig-10-1.png\" width=\"500\" />"
   ]
  },
  {
   "cell_type": "markdown",
   "metadata": {},
   "source": [
    "<img src=\"material/fig-angrist-1990-valid.png\" width=\"500\" />"
   ]
  },
  {
   "cell_type": "markdown",
   "metadata": {},
   "source": [
    "<img src=\"material/fig-10-2.png\" width=\"500\" />"
   ]
  },
  {
   "cell_type": "markdown",
   "metadata": {},
   "source": [
    "## The front-door criterion and identification of causal effects by mechanisms"
   ]
  },
  {
   "cell_type": "markdown",
   "metadata": {},
   "source": [
    "<img src=\"material/fig-10-3.png\" width=\"500\" />"
   ]
  },
  {
   "cell_type": "markdown",
   "metadata": {},
   "source": [
    "### Front-door criterion\n",
    "\n",
    "If one or more unblocked bach-door paths connect a causal variable to an outcome variable, the \n",
    "causal effect is identified by conditioning on a set of observed variables $\\{M\\}$, that make up \n",
    "an identifying mechanism if\n",
    "\n",
    "* **Condition 1 (exhaustiveness)** The variables in the set $\\{M\\}$ intercept all directed paths \n",
    "from the causal variable to the outcome variable.\n",
    "\n",
    "* **Condition 2 (isolation)** No unblocked back-door paths connect the causal variable to the \n",
    "variables in the set $\\{M\\}$, and all back-door paths from the variables in the set $\\{M\\}$ to \n",
    "the outcome variable can be blocked by conditioning on the causal variable.\n",
    "\n",
    "$\\rightarrow$ There is no guidance on on how deep and indentifying mechanism must be in order to be sufficiently deep. This is determined by the standards of a particular research group or field of interest.\n"
   ]
  },
  {
   "cell_type": "markdown",
   "metadata": {},
   "source": [
    "<img src=\"material/fig-10-4.png\" width=\"500\" />"
   ]
  },
  {
   "cell_type": "markdown",
   "metadata": {},
   "source": [
    "<img src=\"material/fig-10-5.png\" width=\"500\" />"
   ]
  }
 ],
 "metadata": {
  "kernelspec": {
   "display_name": "Python 3",
   "language": "python",
   "name": "python3"
  },
  "language_info": {
   "codemirror_mode": {
    "name": "ipython",
    "version": 3
   },
   "file_extension": ".py",
   "mimetype": "text/x-python",
   "name": "python",
   "nbconvert_exporter": "python",
   "pygments_lexer": "ipython3",
   "version": "3.7.7"
  },
  "pycharm": {
   "stem_cell": {
    "cell_type": "raw",
    "metadata": {
     "collapsed": false
    },
    "source": []
   }
  }
 },
 "nbformat": 4,
 "nbformat_minor": 4
}
