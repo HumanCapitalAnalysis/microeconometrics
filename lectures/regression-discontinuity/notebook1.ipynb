{
 "cells": [
  {
   "cell_type": "markdown",
   "metadata": {},
   "source": [
    "# Regression discontinuity design"
   ]
  },
  {
   "cell_type": "markdown",
   "metadata": {},
   "source": [
    "**Issues:**\n",
    "- intuition\n",
    "- identification\n",
    "- interpretation\n",
    "- estimation"
   ]
  },
  {
   "cell_type": "markdown",
   "metadata": {},
   "source": [
    "## Intuition"
   ]
  },
  {
   "cell_type": "markdown",
   "metadata": {},
   "source": [
    "**Key points:**\n",
    "\n",
    "- RD designs can be invalid if individuals can precisely manipulate the assignment variable - discontinuity rules might generate incentives\n",
    "\n",
    "- If individuals - even while having some influence - are unable to precisely manipulate the assignment variable, a consequence of this is that the variation in treatment near the threshold is randomized as though from a randomized experiment - contrast to IV assumption\n",
    "\n",
    "- RD designs can be analyzed - and tested - like randomized experiments.\n",
    "\n",
    "- Graphical representation of an RD design is helpful and informative, but the visual presentation should not be tilted toward either finding an effect or finding no effect.\n",
    "\n",
    "- Nonparametric estimation does not represent a \"solution\" to functional form issues raised by RD designs. It is therefore helpful to view it as a complement to - rather than a substitute for - parametric estimation.\n",
    "\n",
    "- Goodness-of-fit and other statistical tests can help rule out overly restrictive specifications."
   ]
  },
  {
   "cell_type": "markdown",
   "metadata": {},
   "source": [
    "**Baseline**\n",
    "\n",
    "A simple way to estimating the treatment effect $\\tau$ is to run the following linear regression.\n",
    "\n",
    "\\begin{align*}\n",
    "Y = \\alpha + D \\tau + X \\beta + \\epsilon,\n",
    "\\end{align*}\n",
    "\n",
    "where $D \\in [0, 1]$ and we have $D = 1$ if $X \\geq c$ and $D=0$ otherwise."
   ]
  },
  {
   "cell_type": "markdown",
   "metadata": {},
   "source": [
    "**Baseline setup**\n",
    "\n",
    "<img src=\"material/fig-1.png\" width=\"500\">"
   ]
  },
  {
   "cell_type": "markdown",
   "metadata": {},
   "source": [
    "**Potential outcome framework**\n",
    "\n",
    "<img src=\"material/fig-2.png\" width=\"500\">"
   ]
  },
  {
   "cell_type": "markdown",
   "metadata": {},
   "source": [
    "**Potential outcome framework**\n",
    "\n",
    "\\begin{align*}\n",
    "E[Y_i(1) - Y_i(0) \\mid X = c]\n",
    "\\end{align*}\n",
    "\n",
    "$\\Rightarrow$ average treatment effect at the cutoff"
   ]
  },
  {
   "cell_type": "markdown",
   "metadata": {},
   "source": [
    "**Alternatives**\n",
    "\n",
    "Consider the standard assumptions for matching:\n",
    "\n",
    "- ignorability - trivially satisfied by research design\n",
    "- common support - cannot be satisfied and replaced by continuity\n",
    "\n",
    "Lee and Lemieux (2010) emphasize the close connection of RDD to randomized experiments.\n",
    "- How does the graph in the potential outcome framework change?"
   ]
  },
  {
   "cell_type": "markdown",
   "metadata": {},
   "source": [
    "<img src=\"material/fig-3.png\" width=\"500\">"
   ]
  },
  {
   "cell_type": "markdown",
   "metadata": {},
   "source": [
    "Continuity, the key assumption of RDD, is a consequence of the research design and not simply imposed."
   ]
  },
  {
   "cell_type": "markdown",
   "metadata": {},
   "source": [
    "## Identification"
   ]
  },
  {
   "cell_type": "markdown",
   "metadata": {},
   "source": [
    "**Question**\n",
    "\n",
    "How do I know whether an RD design is appropriate for my context? When are the identification assumptions plausable or implausable?"
   ]
  },
  {
   "cell_type": "markdown",
   "metadata": {},
   "source": [
    "**Answers**\n",
    "\n",
    "$\\times$ An RD design will be appropriate if it is plausible that all other unobservable factors are \"continuously\"  related to the assignment variable.\n",
    "\n",
    "$\\checkmark$ When there is a continuously distributed stochastic error component to the assignment variable - which can occur when optimizing agents do not have \\textit{precise} control over the assignment variable - then the variation in the treatment will be as good as randomized in a neighborhood around the discontinuity threshold."
   ]
  },
  {
   "cell_type": "markdown",
   "metadata": {},
   "source": [
    "**Question**\n",
    "\n",
    "Is there any way I can test those assumptions?"
   ]
  },
  {
   "cell_type": "markdown",
   "metadata": {},
   "source": [
    "**Answers**\n",
    "\n",
    "$\\times$ No, the continuity assumption is necessary so there are no tests for the validity of the design.\n",
    "\n",
    "$\\checkmark$ Yes. As in randomized experiment, the distribution of observed baseline covariates should not change discontinuously around the threshold."
   ]
  },
  {
   "cell_type": "markdown",
   "metadata": {},
   "source": [
    "**Simplified setup**\n",
    "\n",
    "\\begin{align*}\n",
    "Y & = D \\tau + W \\delta_1 + U \\\\\n",
    "D & = I [X \\geq c] \\\\\n",
    "X & = W \\delta_2 + V\n",
    "\\end{align*}\n",
    "\n",
    "- $W$ is the vector of all predetermined and observable characteristics.\n",
    "\n",
    "What are the source of heterogeneity in the outcome and assignment variable?"
   ]
  },
  {
   "cell_type": "markdown",
   "metadata": {},
   "source": [
    "The setup for an RD design is more flexible than other estimation strategies.\n",
    "- We allow for $W$ to be endogenously determined as long as it is determined prior to $V$.\n",
    "- We take no stance as to whether some elements $\\delta_1$ and $\\delta_2$ are zero (exclusion restrictions)\n",
    "- We make no assumptions about the correlations between $W$, $U$, and $V$."
   ]
  },
  {
   "cell_type": "markdown",
   "metadata": {},
   "source": [
    "<img src=\"material/fig-4.png\" width=\"500\">"
   ]
  },
  {
   "cell_type": "markdown",
   "metadata": {},
   "source": [
    "**Local randomization**\n",
    "\n",
    "We say individuals have imprecise control over $X$ when conditional on $W = w$ and $U = u$ the density of $V$ (and hence $X$) is continuous."
   ]
  },
  {
   "cell_type": "markdown",
   "metadata": {},
   "source": [
    "**Applying Baye's rule**\n",
    "\n",
    "\\begin{align*}\n",
    "& \\Pr[W = w, U = u \\mid X = x] \\\\\n",
    "&\\qquad\\qquad = f(x \\mid W = w, U = u) \\quad\\frac{\\Pr[W = w, U = u]}{f(x)}\n",
    "\\end{align*}"
   ]
  },
  {
   "cell_type": "markdown",
   "metadata": {},
   "source": [
    "**Local randomization:** If individuals have imprecise control over $X$ as defined above, then $\\Pr[W =w, U = u \\mid X = x]$ is continuous in $x$: the treatment is \"as good as\" randomly assigned around the cutoff.\n",
    "\n",
    "$\\Rightarrow$ the behavioral assumption of imprecise control of $X$ around the threshold has the prediction that treatment is locally randmized."
   ]
  },
  {
   "cell_type": "markdown",
   "metadata": {},
   "source": [
    "**Consequences**\n",
    "\n",
    "- testing prediction that $\\Pr[W =w, U = u \\mid X = x]$ is continuous in $x$\n",
    "- irrelevance of including baseline covariates"
   ]
  },
  {
   "cell_type": "markdown",
   "metadata": {},
   "source": [
    "## Interpretation"
   ]
  },
  {
   "cell_type": "markdown",
   "metadata": {},
   "source": [
    "**Questions**\n",
    "\n",
    "To what extent are results from RD designs generalizable?"
   ]
  },
  {
   "cell_type": "markdown",
   "metadata": {},
   "source": [
    "**Answers**\n",
    "\n",
    "$\\times$ The RD estimate of the treatment effect is only applicable to the subpopulation of individuals at the discontinuity threshold and uninformative about the effect everywhere else.\n",
    "\n",
    "$\\checkmark$ The RD estimand can be interpreted as a weighted average treatment effect, where the weights are relative ex ante probability that the value of an individual's assignment variable will be in the neighborhood of the threshold."
   ]
  },
  {
   "cell_type": "markdown",
   "metadata": {},
   "source": [
    "**Accounting for treatment effect heterogeneity**\n",
    "\n",
    "\\begin{align*}\n",
    "Y = D \\tau(W, U) + W \\delta_1 + U\n",
    "\\end{align*}\n",
    "\n",
    "What is creating treatment effect heterogeneity?"
   ]
  },
  {
   "cell_type": "markdown",
   "metadata": {},
   "source": [
    "**Accounting for treatment effect heterogeneity**\n",
    "\n",
    "\\begin{align*}\n",
    "\\lim_{\\epsilon \\downarrow 0} E(Y\\mid X = c + \\epsilon) -\n",
    "\\lim_{\\epsilon \\uparrow 0} E(Y\\mid X = c + \\epsilon) = ?\n",
    "\\end{align*}"
   ]
  },
  {
   "cell_type": "markdown",
   "metadata": {},
   "source": [
    "**Alternative evaluation strategies**\n",
    "\n",
    "- randomized experiment\n",
    "- regression discontinuity design\n",
    "- matching on observables\n",
    "- instrumental variables\\vspace{0.3cm}\n",
    "\n",
    "How do the (assumed) relationships between the observables and unobservable differ?"
   ]
  },
  {
   "cell_type": "markdown",
   "metadata": {},
   "source": [
    "**Endogenous dummy variable**\n",
    "\n",
    "\\begin{align*}\n",
    "Y & = D \\tau + W \\delta_1 + U \\\\\n",
    "D & = I[X \\geq c] \\\\\n",
    "X & = W \\delta_2 + V\n",
    "\\end{align*}\n"
   ]
  },
  {
   "cell_type": "markdown",
   "metadata": {},
   "source": [
    "<img src=\"material/fig-5-a.png\" width=\"500\">"
   ]
  },
  {
   "cell_type": "markdown",
   "metadata": {},
   "source": [
    "<img src=\"material/fig-5-b.png\" width=\"500\">"
   ]
  },
  {
   "cell_type": "markdown",
   "metadata": {},
   "source": [
    "<img src=\"material/fig-5-c.png\" width=\"500\">"
   ]
  },
  {
   "cell_type": "markdown",
   "metadata": {},
   "source": [
    "<img src=\"material/fig-5-d.png\" width=\"500\">"
   ]
  },
  {
   "cell_type": "markdown",
   "metadata": {},
   "source": [
    "## Estimation"
   ]
  },
  {
   "cell_type": "code",
   "execution_count": null,
   "metadata": {},
   "outputs": [],
   "source": []
  },
  {
   "cell_type": "markdown",
   "metadata": {},
   "source": [
    "## Checklist"
   ]
  },
  {
   "cell_type": "markdown",
   "metadata": {},
   "source": [
    "**Recommendations:**\n",
    "- To assess the possibility of manipulations of the assignment variable, show its distribution.\n",
    "- Present the main RD graph using binned local averages.\n",
    "- Graph a benchmark polynomial specification\n",
    "- Explore the sensitivity of the results to a range of bandwidth, and a range of orders to the polynomial.\n",
    "- Conduct a parallel RD analysis on the baseline covariates.\n",
    "- Explore the sensitivity of the results to the inclusion of baseline covariates."
   ]
  },
  {
   "cell_type": "markdown",
   "metadata": {},
   "source": [
    "## References\n",
    "- Hahn, J., Todd, P. E., and van der Klaauw, W. (2001). [Identification and estimation of treatment effects with a regression-discontinuity design](https://www.jstor.org/stable/2692190). *Econometrica, 69*(1), 201–209.\n",
    "- Lee, D. S. (2008). [Randomized experiments from nonrandom selection in US House elections](https://www.sciencedirect.com/science/article/abs/pii/S0304407607001121). *Journal of Econometrics, 142*(2), 675–697.\n",
    "- Lee, D. S., and Lemieux, T. (2010). [Regression discontinuity designs in economics](https://www.aeaweb.org/articles?id=10.1257/jel.48.2.281). *Journal of economic literature, 48*(2), 281–355.\n",
    "- Thistlethwaite, D. L., and Campbell, D. T. (1960). [Regression-discontinuity analysis: An alternative to the ex-post facto experiment](https://psycnet.apa.org/record/1962-00061-001). *Journal of Educational Psychology, 51*(6), 309–317."
   ]
  }
 ],
 "metadata": {
  "celltoolbar": "Slideshow",
  "kernelspec": {
   "display_name": "Python 3",
   "language": "python",
   "name": "python3"
  },
  "language_info": {
   "codemirror_mode": {
    "name": "ipython",
    "version": 3
   },
   "file_extension": ".py",
   "mimetype": "text/x-python",
   "name": "python",
   "nbconvert_exporter": "python",
   "pygments_lexer": "ipython3",
   "version": "3.7.6"
  }
 },
 "nbformat": 4,
 "nbformat_minor": 4
}
