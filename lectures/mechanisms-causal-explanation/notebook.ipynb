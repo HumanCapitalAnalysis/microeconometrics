{
 "cells": [
  {
   "cell_type": "code",
   "execution_count": 1,
   "metadata": {},
   "outputs": [
    {
     "name": "stderr",
     "output_type": "stream",
     "text": [
      "/home/peisenha/local/anaconda3/envs/teaching-microeconometrics/lib/python3.7/site-packages/respy/_numba.py:1: NumbaDeprecationWarning: \u001b[1mAn import was requested from a module that has moved location.\n",
      "Import requested from: 'numba.cgutils', please update to use 'numba.core.cgutils' or pin to Numba version 0.48.0. This alias will not be present in Numba version 0.50.0.\u001b[0m\n",
      "  from numba import cgutils\n"
     ]
    }
   ],
   "source": [
    "import pandas as pd\n",
    "import respy as rp\n",
    "\n",
    "from auxiliary import plot_final_human_capital\n",
    "from auxiliary import plot_wage_distribution\n",
    "from auxiliary import plot_choices"
   ]
  },
  {
   "cell_type": "markdown",
   "metadata": {},
   "source": [
    "# Mechanisms and causal explanation"
   ]
  },
  {
   "cell_type": "markdown",
   "metadata": {},
   "source": [
    "## The dangers of insufficiently deep explanations"
   ]
  },
  {
   "cell_type": "markdown",
   "metadata": {},
   "source": [
    "We only identify total effects for selected subpopulations that are not necessarily of great economic interest. \n",
    "\n",
    "* **Does compulsory school attendance affect schooling and earnings?**\n",
    "\n",
    "<img src=\"material/fig-10-1.png\" width=\"500\" />\n",
    "We cannot distinguish between the direct positive effect of schooling on wages and the indirect negative effect through reduced work experience.\n",
    "\n",
    "* **Lifetime earnings and the Vietnam era draft lottery: Evidence from social security administrative records**\n",
    "\n",
    "This is the causal graphs that justifies the use of the draft lottery as an instrument to determine the effect of military service on wages.\n",
    "\n",
    "<img src=\"material/fig-angrist-1990-valid.png\" width=\"500\" />\n",
    "\n",
    "However, alternatives can be forcefully argued that introduce several problems.\n",
    "\n",
    "<img src=\"material/fig-10-2.png\" width=\"500\" />\n",
    "\n",
    "* There is a path from the draft lottery to civilian experience that invalidates the instrument. Why?\n",
    "\n",
    "* There are four separate causal pathways between military services and wages. \n",
    "    * Military service reduces schooling and work experience which reduces wages.\n",
    "    * Military service reduces schooling, but increases work experience which increases wages."
   ]
  },
  {
   "cell_type": "markdown",
   "metadata": {},
   "source": [
    "## The front-door criterion and identification of causal effects by mechanisms"
   ]
  },
  {
   "cell_type": "markdown",
   "metadata": {},
   "source": [
    "Since $U$ is unobserved, we cannot apply the back-door criterion directly to learn about the effect of $D$ on $Y$.\n",
    "\n",
    "<img src=\"material/fig-10-3.png\" width=\"500\" />\n",
    "\n",
    "However, we can make some progress by its repeated application.\n",
    "\n",
    "#### Front-door criterion\n",
    "\n",
    "If one or more unblocked bach-door paths connect a causal variable to an outcome variable, the \n",
    "causal effect is identified by conditioning on a set of observed variables $\\{M\\}$, that make up \n",
    "an identifying mechanism if\n",
    "\n",
    "* **Condition 1 (exhaustiveness)** The variables in the set $\\{M\\}$ intercept all directed paths \n",
    "from the causal variable to the outcome variable.\n",
    "\n",
    "* **Condition 2 (isolation)** No unblocked back-door paths connect the causal variable to the \n",
    "variables in the set $\\{M\\}$, and all back-door paths from the variables in the set $\\{M\\}$ to \n",
    "the outcome variable can be blocked by conditioning on the causal variable.\n",
    "\n",
    "$\\rightarrow$ There is no guidance on on how deep and indentifying mechanism must be in order to be sufficiently deep. This is determined by the standards of a particular research group or field of interest.\n",
    "\n",
    "\n",
    "<img src=\"material/fig-10-4.png\" width=\"500\" />"
   ]
  },
  {
   "cell_type": "markdown",
   "metadata": {},
   "source": [
    "## Empirical example"
   ]
  },
  {
   "cell_type": "markdown",
   "metadata": {},
   "source": [
    "<img src=\"material/fig-keane-wolpin-1997-cover.png\" width=\"700\" />\n",
    "\n",
    "In this seminal paper, the authors study the mechanisms that determine human capital accumulation. We can reproduce the core findings of the paper using our  group's research code `respy`. For more details, please visit the [online documentation](respy.readthedocs.io/)."
   ]
  },
  {
   "cell_type": "markdown",
   "metadata": {},
   "source": [
    "### Observed patterns"
   ]
  },
  {
   "cell_type": "code",
   "execution_count": 2,
   "metadata": {},
   "outputs": [
    {
     "data": {
      "text/html": [
       "<div>\n",
       "<style scoped>\n",
       "    .dataframe tbody tr th:only-of-type {\n",
       "        vertical-align: middle;\n",
       "    }\n",
       "\n",
       "    .dataframe tbody tr th {\n",
       "        vertical-align: top;\n",
       "    }\n",
       "\n",
       "    .dataframe thead th {\n",
       "        text-align: right;\n",
       "    }\n",
       "</style>\n",
       "<table border=\"1\" class=\"dataframe\">\n",
       "  <thead>\n",
       "    <tr style=\"text-align: right;\">\n",
       "      <th></th>\n",
       "      <th>Identifier</th>\n",
       "      <th>Period</th>\n",
       "      <th>Choice</th>\n",
       "      <th>Wage</th>\n",
       "      <th>Experience_Blue_Collar</th>\n",
       "      <th>Experience_Military</th>\n",
       "      <th>Experience_White_Collar</th>\n",
       "      <th>Experience_School</th>\n",
       "    </tr>\n",
       "  </thead>\n",
       "  <tbody>\n",
       "    <tr>\n",
       "      <th>1</th>\n",
       "      <td>0</td>\n",
       "      <td>0</td>\n",
       "      <td>school</td>\n",
       "      <td>NaN</td>\n",
       "      <td>0</td>\n",
       "      <td>0</td>\n",
       "      <td>0</td>\n",
       "      <td>11</td>\n",
       "    </tr>\n",
       "    <tr>\n",
       "      <th>2</th>\n",
       "      <td>0</td>\n",
       "      <td>1</td>\n",
       "      <td>school</td>\n",
       "      <td>NaN</td>\n",
       "      <td>0</td>\n",
       "      <td>0</td>\n",
       "      <td>0</td>\n",
       "      <td>12</td>\n",
       "    </tr>\n",
       "    <tr>\n",
       "      <th>3</th>\n",
       "      <td>0</td>\n",
       "      <td>2</td>\n",
       "      <td>school</td>\n",
       "      <td>NaN</td>\n",
       "      <td>0</td>\n",
       "      <td>0</td>\n",
       "      <td>0</td>\n",
       "      <td>13</td>\n",
       "    </tr>\n",
       "    <tr>\n",
       "      <th>4</th>\n",
       "      <td>0</td>\n",
       "      <td>3</td>\n",
       "      <td>school</td>\n",
       "      <td>NaN</td>\n",
       "      <td>0</td>\n",
       "      <td>0</td>\n",
       "      <td>0</td>\n",
       "      <td>14</td>\n",
       "    </tr>\n",
       "    <tr>\n",
       "      <th>5</th>\n",
       "      <td>0</td>\n",
       "      <td>4</td>\n",
       "      <td>school</td>\n",
       "      <td>NaN</td>\n",
       "      <td>0</td>\n",
       "      <td>0</td>\n",
       "      <td>0</td>\n",
       "      <td>15</td>\n",
       "    </tr>\n",
       "  </tbody>\n",
       "</table>\n",
       "</div>"
      ],
      "text/plain": [
       "   Identifier  Period  Choice  Wage  Experience_Blue_Collar  \\\n",
       "1           0       0  school   NaN                       0   \n",
       "2           0       1  school   NaN                       0   \n",
       "3           0       2  school   NaN                       0   \n",
       "4           0       3  school   NaN                       0   \n",
       "5           0       4  school   NaN                       0   \n",
       "\n",
       "   Experience_Military  Experience_White_Collar  Experience_School  \n",
       "1                    0                        0                 11  \n",
       "2                    0                        0                 12  \n",
       "3                    0                        0                 13  \n",
       "4                    0                        0                 14  \n",
       "5                    0                        0                 15  "
      ]
     },
     "execution_count": 2,
     "metadata": {},
     "output_type": "execute_result"
    }
   ],
   "source": [
    "_, _, df_obs = rp.get_example_model(\"kw_97_basic\")\n",
    "df_obs.head()"
   ]
  },
  {
   "cell_type": "markdown",
   "metadata": {},
   "source": [
    "We can look at the observed pattern of choices."
   ]
  },
  {
   "cell_type": "code",
   "execution_count": 3,
   "metadata": {},
   "outputs": [
    {
     "data": {
      "image/png": "[encoded data removed]",
      "text/plain": [
       "<Figure size 432x288 with 1 Axes>"
      ]
     },
     "metadata": {
      "needs_background": "light"
     },
     "output_type": "display_data"
    }
   ],
   "source": [
    "plot_choices(df_obs, \"Observed\")"
   ]
  },
  {
   "cell_type": "markdown",
   "metadata": {},
   "source": [
    "### Estimation"
   ]
  },
  {
   "cell_type": "markdown",
   "metadata": {},
   "source": [
    "Estimation of the model is rather time-consuming so we just take the estimated parameter values as given."
   ]
  },
  {
   "cell_type": "code",
   "execution_count": 4,
   "metadata": {},
   "outputs": [
    {
     "data": {
      "text/html": [
       "<div>\n",
       "<style scoped>\n",
       "    .dataframe tbody tr th:only-of-type {\n",
       "        vertical-align: middle;\n",
       "    }\n",
       "\n",
       "    .dataframe tbody tr th {\n",
       "        vertical-align: top;\n",
       "    }\n",
       "\n",
       "    .dataframe thead th {\n",
       "        text-align: right;\n",
       "    }\n",
       "</style>\n",
       "<table border=\"1\" class=\"dataframe\">\n",
       "  <thead>\n",
       "    <tr style=\"text-align: right;\">\n",
       "      <th></th>\n",
       "      <th></th>\n",
       "      <th>value</th>\n",
       "      <th>comment</th>\n",
       "    </tr>\n",
       "    <tr>\n",
       "      <th>category</th>\n",
       "      <th>name</th>\n",
       "      <th></th>\n",
       "      <th></th>\n",
       "    </tr>\n",
       "  </thead>\n",
       "  <tbody>\n",
       "    <tr>\n",
       "      <th>delta</th>\n",
       "      <th>delta</th>\n",
       "      <td>0.785423</td>\n",
       "      <td>discount factor</td>\n",
       "    </tr>\n",
       "    <tr>\n",
       "      <th rowspan=\"4\" valign=\"top\">wage_white_collar</th>\n",
       "      <th>constant</th>\n",
       "      <td>8.322815</td>\n",
       "      <td>log of rental price if the base skill endowmen...</td>\n",
       "    </tr>\n",
       "    <tr>\n",
       "      <th>exp_school</th>\n",
       "      <td>0.098627</td>\n",
       "      <td>linear return to an additional year of schooli...</td>\n",
       "    </tr>\n",
       "    <tr>\n",
       "      <th>exp_white_collar</th>\n",
       "      <td>0.121718</td>\n",
       "      <td>return to experience, same sector, linear (wage)</td>\n",
       "    </tr>\n",
       "    <tr>\n",
       "      <th>exp_white_collar_square</th>\n",
       "      <td>-0.141769</td>\n",
       "      <td>return to experience, same sector, quadratic (...</td>\n",
       "    </tr>\n",
       "  </tbody>\n",
       "</table>\n",
       "</div>"
      ],
      "text/plain": [
       "                                              value  \\\n",
       "category          name                                \n",
       "delta             delta                    0.785423   \n",
       "wage_white_collar constant                 8.322815   \n",
       "                  exp_school               0.098627   \n",
       "                  exp_white_collar         0.121718   \n",
       "                  exp_white_collar_square -0.141769   \n",
       "\n",
       "                                                                                     comment  \n",
       "category          name                                                                        \n",
       "delta             delta                                                      discount factor  \n",
       "wage_white_collar constant                 log of rental price if the base skill endowmen...  \n",
       "                  exp_school               linear return to an additional year of schooli...  \n",
       "                  exp_white_collar          return to experience, same sector, linear (wage)  \n",
       "                  exp_white_collar_square  return to experience, same sector, quadratic (...  "
      ]
     },
     "execution_count": 4,
     "metadata": {},
     "output_type": "execute_result"
    }
   ],
   "source": [
    "params = pd.read_pickle(\"material/params_revised.pkl\")\n",
    "params.head()"
   ]
  },
  {
   "cell_type": "markdown",
   "metadata": {},
   "source": [
    "Now we can simulate a sample based on them and compare the fit between the observed and the simulated dataset. As the simulation is quite resource-intensive, we will again rely on a prepared dataset."
   ]
  },
  {
   "cell_type": "code",
   "execution_count": 5,
   "metadata": {},
   "outputs": [
    {
     "data": {
      "image/png": "[encoded data removed]",
      "text/plain": [
       "<Figure size 432x288 with 1 Axes>"
      ]
     },
     "metadata": {
      "needs_background": "light"
     },
     "output_type": "display_data"
    },
    {
     "data": {
      "image/png": "[encoded data removed]",
      "text/plain": [
       "<Figure size 432x288 with 1 Axes>"
      ]
     },
     "metadata": {
      "needs_background": "light"
     },
     "output_type": "display_data"
    }
   ],
   "source": [
    "df_sim = pd.read_pickle(\"material/df_sim.pkl\")\n",
    "\n",
    "for label, df in [(\"Simulated\", df_sim), (\"Observed\", df_obs)]:\n",
    "    plot_choices(df, label)"
   ]
  },
  {
   "cell_type": "markdown",
   "metadata": {},
   "source": [
    "### Causal variation"
   ]
  },
  {
   "cell_type": "markdown",
   "metadata": {},
   "source": [
    "We can now evalaute the total causal effect of a $\\$2,000$ tuition subsidy on average wages in the final period."
   ]
  },
  {
   "cell_type": "code",
   "execution_count": 6,
   "metadata": {},
   "outputs": [
    {
     "data": {
      "image/png": "[encoded data removed]",
      "text/plain": [
       "<Figure size 432x288 with 1 Axes>"
      ]
     },
     "metadata": {
      "needs_background": "light"
     },
     "output_type": "display_data"
    },
    {
     "data": {
      "image/png": "[encoded data removed]",
      "text/plain": [
       "<Figure size 432x288 with 1 Axes>"
      ]
     },
     "metadata": {
      "needs_background": "light"
     },
     "output_type": "display_data"
    }
   ],
   "source": [
    "df_pol = pd.read_pickle(\"material/df_pol.pkl\")\n",
    "plot_wage_distribution(df_sim, df_pol)"
   ]
  },
  {
   "cell_type": "markdown",
   "metadata": {},
   "source": [
    "### Mechanisms"
   ]
  },
  {
   "cell_type": "markdown",
   "metadata": {},
   "source": [
    "How do individual decision change so that we observe the change in wages?"
   ]
  },
  {
   "cell_type": "code",
   "execution_count": 7,
   "metadata": {},
   "outputs": [
    {
     "data": {
      "image/png": "[encoded data removed]",
      "text/plain": [
       "<Figure size 432x288 with 1 Axes>"
      ]
     },
     "metadata": {
      "needs_background": "light"
     },
     "output_type": "display_data"
    },
    {
     "data": {
      "image/png": "[encoded data removed]",
      "text/plain": [
       "<Figure size 432x288 with 1 Axes>"
      ]
     },
     "metadata": {
      "needs_background": "light"
     },
     "output_type": "display_data"
    }
   ],
   "source": [
    "plot_final_human_capital(df_sim, df_pol)"
   ]
  }
 ],
 "metadata": {
  "kernelspec": {
   "display_name": "Python 3",
   "language": "python",
   "name": "python3"
  },
  "language_info": {
   "codemirror_mode": {
    "name": "ipython",
    "version": 3
   },
   "file_extension": ".py",
   "mimetype": "text/x-python",
   "name": "python",
   "nbconvert_exporter": "python",
   "pygments_lexer": "ipython3",
   "version": "3.7.7"
  },
  "pycharm": {
   "stem_cell": {
    "cell_type": "raw",
    "metadata": {
     "collapsed": false
    },
    "source": []
   }
  }
 },
 "nbformat": 4,
 "nbformat_minor": 4
}
