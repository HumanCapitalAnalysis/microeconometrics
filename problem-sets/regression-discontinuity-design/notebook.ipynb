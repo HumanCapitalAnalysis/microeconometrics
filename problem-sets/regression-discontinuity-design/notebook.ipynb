{
 "cells": [
  {
   "cell_type": "code",
   "execution_count": 1,
   "metadata": {},
   "outputs": [],
   "source": [
    "import statsmodels.formula.api as smf\n",
    "import matplotlib.pyplot as plt\n",
    "import pandas as pd\n",
    "import numpy as np\n",
    "\n",
    "from sklearn.linear_model import LogisticRegression\n",
    "from sklearn.model_selection import cross_val_score\n",
    "from sklearn.linear_model import LinearRegression\n",
    "from sklearn.model_selection import LeaveOneOut"
   ]
  },
  {
   "cell_type": "markdown",
   "metadata": {},
   "source": [
    "# Regression Discontinuity Design (RDD)"
   ]
  },
  {
   "cell_type": "markdown",
   "metadata": {},
   "source": [
    "In the problem set we are going to practice RDD in the Lee (2008) framework presented in the lecture 11. We employ the original simplified data set on the individual candidates for the US House of Representatives from 1946 to 1998. If a candidate obtains more votes than his or her competitors, he or she takes the office. Each elected candidate represents one of 435 congressional districts. The elections are held every two years. We seek the answer to the question whether winning the election has a causal influence on the probability that the candidate will win the next election.*\n",
    "\n",
    "The observations of the data set **individ_final.dta** are clustered by district and election year. It consists of the following variables:*\n",
    "\n",
    "- **outcome** is a treatment variable; it is coded as 1 if a candidate won the election in the corresponding year and 0 – otherwise.\n",
    "\n",
    "- **outcomenext** is an outcome variable. It is coded as 1 if a candidate won the next election; as 0 if he or she did not win the next election; and as -1 if he or she did not participate in the next election.\n",
    "\n",
    "- **difshare** is an assignment variable; it is the winning candidate’s vote share minus the vote share of the highest performing competitor. Therefore, 0 is the cutoff point: a candidate whose vote share is more than 0 is automatically assigned to treatment."
   ]
  },
  {
   "cell_type": "code",
   "execution_count": 2,
   "metadata": {},
   "outputs": [
    {
     "data": {
      "text/html": [
       "<div>\n",
       "<style scoped>\n",
       "    .dataframe tbody tr th:only-of-type {\n",
       "        vertical-align: middle;\n",
       "    }\n",
       "\n",
       "    .dataframe tbody tr th {\n",
       "        vertical-align: top;\n",
       "    }\n",
       "\n",
       "    .dataframe thead th {\n",
       "        text-align: right;\n",
       "    }\n",
       "</style>\n",
       "<table border=\"1\" class=\"dataframe\">\n",
       "  <thead>\n",
       "    <tr style=\"text-align: right;\">\n",
       "      <th></th>\n",
       "      <th>year</th>\n",
       "      <th>outcome</th>\n",
       "      <th>outcomenext</th>\n",
       "      <th>difshare</th>\n",
       "    </tr>\n",
       "  </thead>\n",
       "  <tbody>\n",
       "    <tr>\n",
       "      <th>0</th>\n",
       "      <td>1946</td>\n",
       "      <td>1</td>\n",
       "      <td>-1</td>\n",
       "      <td>0.061488</td>\n",
       "    </tr>\n",
       "    <tr>\n",
       "      <th>1</th>\n",
       "      <td>1946</td>\n",
       "      <td>0</td>\n",
       "      <td>0</td>\n",
       "      <td>-0.061488</td>\n",
       "    </tr>\n",
       "    <tr>\n",
       "      <th>2</th>\n",
       "      <td>1948</td>\n",
       "      <td>1</td>\n",
       "      <td>1</td>\n",
       "      <td>0.104869</td>\n",
       "    </tr>\n",
       "    <tr>\n",
       "      <th>3</th>\n",
       "      <td>1948</td>\n",
       "      <td>0</td>\n",
       "      <td>-1</td>\n",
       "      <td>-0.104869</td>\n",
       "    </tr>\n",
       "    <tr>\n",
       "      <th>4</th>\n",
       "      <td>1948</td>\n",
       "      <td>0</td>\n",
       "      <td>-1</td>\n",
       "      <td>-0.535721</td>\n",
       "    </tr>\n",
       "  </tbody>\n",
       "</table>\n",
       "</div>"
      ],
      "text/plain": [
       "   year  outcome  outcomenext  difshare\n",
       "0  1946        1           -1  0.061488\n",
       "1  1946        0            0 -0.061488\n",
       "2  1948        1            1  0.104869\n",
       "3  1948        0           -1 -0.104869\n",
       "4  1948        0           -1 -0.535721"
      ]
     },
     "execution_count": 2,
     "metadata": {},
     "output_type": "execute_result"
    }
   ],
   "source": [
    "df = pd.read_stata(\"data/individ_final.dta\")\n",
    "df.head()"
   ]
  },
  {
   "cell_type": "markdown",
   "metadata": {},
   "source": [
    "## Task A"
   ]
  },
  {
   "cell_type": "markdown",
   "metadata": {},
   "source": [
    "*What is the main assumption that makes RDD possible? Define the local randomization condition in the simplified setup presented in the lecture.*"
   ]
  },
  {
   "cell_type": "markdown",
   "metadata": {},
   "source": [
    "Main assumption: agents are unable to precisely control the assignment variable near the known cutoff what leads to the randomized variation in treatment near the threshold.\n",
    "\n",
    "local randomization.\n",
    "\n",
    "The framework:\n",
    "$$Y = D \\tau + W \\delta_1 + U$$\n",
    "$$D = I(X \\geq c)$$\n",
    "$$X = W \\delta_2 + V,$$\n",
    "\n",
    "where:\n",
    "- Y is the outcome of interest, \n",
    "- D is the binary treatment indicator, \n",
    "- W is the vector of all predetermined and observable characteristics of the individual that might impact Y and/or X,\n",
    "- X is the assignment variable,\n",
    "- c is the cutoff value\n",
    "\n",
    "Individuals have imprecise control over X when conditional on W = w and U = u, the density of V (and hence X) is continuous. \n",
    "\n",
    "**Definition of Local Randomization:** If individuals have imprecise control over X, then Pr\\[W = w,U = u|X = x\\] is continuous in x: the treatment is “as good as” randomly assigned around the cutoff."
   ]
  },
  {
   "cell_type": "markdown",
   "metadata": {},
   "source": [
    "## Task B"
   ]
  },
  {
   "cell_type": "markdown",
   "metadata": {},
   "source": [
    "A major advantage of the RD design over competing methods is its transparency, which can be illustrated using graphical methods. A standard way of graphing the data is to divide the assignment variable into a number of bins, making sure there are two separate bins on each side of the cutoff point. Then, the average value of the outcome variable can be computed for each bin and graphed against the mid-points of the bins."
   ]
  },
  {
   "cell_type": "markdown",
   "metadata": {},
   "source": [
    "## Task B.1"
   ]
  },
  {
   "cell_type": "markdown",
   "metadata": {},
   "source": [
    "Create a new variable that groups the assignment variable values into 400 bins with a size of 0.005."
   ]
  },
  {
   "cell_type": "code",
   "execution_count": 3,
   "metadata": {},
   "outputs": [],
   "source": [
    "bins = np.linspace(-1, 1, num=401)\n",
    "df[\"bin\"] = pd.cut(df[\"difshare\"], bins, labels=False, include_lowest=True)\n",
    "df.sort_values(by=\"bin\", inplace=True)"
   ]
  },
  {
   "cell_type": "markdown",
   "metadata": {},
   "source": [
    "## Task B.2"
   ]
  },
  {
   "cell_type": "markdown",
   "metadata": {},
   "source": [
    "Since we are interested in a causal influence on the probability that the candidate will win the next election based on winning the current election, drop the rows that do not have a comparable next election."
   ]
  },
  {
   "cell_type": "code",
   "execution_count": 4,
   "metadata": {},
   "outputs": [
    {
     "data": {
      "text/html": [
       "<div>\n",
       "<style scoped>\n",
       "    .dataframe tbody tr th:only-of-type {\n",
       "        vertical-align: middle;\n",
       "    }\n",
       "\n",
       "    .dataframe tbody tr th {\n",
       "        vertical-align: top;\n",
       "    }\n",
       "\n",
       "    .dataframe thead th {\n",
       "        text-align: right;\n",
       "    }\n",
       "</style>\n",
       "<table border=\"1\" class=\"dataframe\">\n",
       "  <thead>\n",
       "    <tr style=\"text-align: right;\">\n",
       "      <th></th>\n",
       "      <th>year</th>\n",
       "      <th>outcome</th>\n",
       "      <th>outcomenext</th>\n",
       "      <th>difshare</th>\n",
       "      <th>bin</th>\n",
       "    </tr>\n",
       "  </thead>\n",
       "  <tbody>\n",
       "    <tr>\n",
       "      <th>13050</th>\n",
       "      <td>1952</td>\n",
       "      <td>0</td>\n",
       "      <td>0</td>\n",
       "      <td>-0.996721</td>\n",
       "      <td>0</td>\n",
       "    </tr>\n",
       "    <tr>\n",
       "      <th>16761</th>\n",
       "      <td>1946</td>\n",
       "      <td>0</td>\n",
       "      <td>0</td>\n",
       "      <td>-0.999268</td>\n",
       "      <td>0</td>\n",
       "    </tr>\n",
       "    <tr>\n",
       "      <th>23171</th>\n",
       "      <td>1968</td>\n",
       "      <td>0</td>\n",
       "      <td>0</td>\n",
       "      <td>-0.901280</td>\n",
       "      <td>19</td>\n",
       "    </tr>\n",
       "    <tr>\n",
       "      <th>15113</th>\n",
       "      <td>1968</td>\n",
       "      <td>0</td>\n",
       "      <td>0</td>\n",
       "      <td>-0.853781</td>\n",
       "      <td>29</td>\n",
       "    </tr>\n",
       "    <tr>\n",
       "      <th>14899</th>\n",
       "      <td>1980</td>\n",
       "      <td>0</td>\n",
       "      <td>0</td>\n",
       "      <td>-0.809648</td>\n",
       "      <td>38</td>\n",
       "    </tr>\n",
       "  </tbody>\n",
       "</table>\n",
       "</div>"
      ],
      "text/plain": [
       "       year  outcome  outcomenext  difshare  bin\n",
       "13050  1952        0            0 -0.996721    0\n",
       "16761  1946        0            0 -0.999268    0\n",
       "23171  1968        0            0 -0.901280   19\n",
       "15113  1968        0            0 -0.853781   29\n",
       "14899  1980        0            0 -0.809648   38"
      ]
     },
     "execution_count": 4,
     "metadata": {},
     "output_type": "execute_result"
    }
   ],
   "source": [
    "df = df[df[\"outcomenext\"].isin([0, 1])]\n",
    "df.head()"
   ]
  },
  {
   "cell_type": "markdown",
   "metadata": {},
   "source": [
    "## Task B.3"
   ]
  },
  {
   "cell_type": "markdown",
   "metadata": {},
   "source": [
    "Find the mean of the outcome variable for each bin or, in other words, local average. Draw this relationship on the scatterplot."
   ]
  },
  {
   "cell_type": "code",
   "execution_count": 5,
   "metadata": {},
   "outputs": [
    {
     "data": {
      "text/plain": [
       "<matplotlib.axes._subplots.AxesSubplot at 0x7fdb69bec250>"
      ]
     },
     "execution_count": 5,
     "metadata": {},
     "output_type": "execute_result"
    },
    {
     "data": {
      "image/png": "[encoded data removed]",
      "text/plain": [
       "<Figure size 432x288 with 1 Axes>"
      ]
     },
     "metadata": {
      "needs_background": "light"
     },
     "output_type": "display_data"
    }
   ],
   "source": [
    "df.groupby(\"bin\").mean()[\"outcomenext\"].sort_index().plot()"
   ]
  },
  {
   "cell_type": "markdown",
   "metadata": {},
   "source": [
    "## Task B.4"
   ]
  },
  {
   "cell_type": "markdown",
   "metadata": {},
   "source": [
    "For better visuality we also add to the graph the fitted values of logistic regression around the cutoff. For this apply logistic regression separately on either side of the threshold (we take the bins with the share values from -0.25 to 0.25 and use the package LogisticRegression from sklearn.linear model). Extract probability estimates. Add them to the scatterplot in the proximity of cutoff. Do you observe a discontinuity at the cutoff point?"
   ]
  },
  {
   "cell_type": "code",
   "execution_count": 6,
   "metadata": {},
   "outputs": [
    {
     "data": {
      "text/html": [
       "<div>\n",
       "<style scoped>\n",
       "    .dataframe tbody tr th:only-of-type {\n",
       "        vertical-align: middle;\n",
       "    }\n",
       "\n",
       "    .dataframe tbody tr th {\n",
       "        vertical-align: top;\n",
       "    }\n",
       "\n",
       "    .dataframe thead th {\n",
       "        text-align: right;\n",
       "    }\n",
       "</style>\n",
       "<table border=\"1\" class=\"dataframe\">\n",
       "  <thead>\n",
       "    <tr style=\"text-align: right;\">\n",
       "      <th></th>\n",
       "      <th>year</th>\n",
       "      <th>outcome</th>\n",
       "      <th>outcomenext</th>\n",
       "      <th>difshare</th>\n",
       "      <th>bin</th>\n",
       "    </tr>\n",
       "  </thead>\n",
       "  <tbody>\n",
       "    <tr>\n",
       "      <th>count</th>\n",
       "      <td>2424.000000</td>\n",
       "      <td>2424.0</td>\n",
       "      <td>2424.000000</td>\n",
       "      <td>2424.000000</td>\n",
       "      <td>2424.000000</td>\n",
       "    </tr>\n",
       "    <tr>\n",
       "      <th>mean</th>\n",
       "      <td>1967.764026</td>\n",
       "      <td>0.0</td>\n",
       "      <td>0.043317</td>\n",
       "      <td>-0.124739</td>\n",
       "      <td>174.548680</td>\n",
       "    </tr>\n",
       "    <tr>\n",
       "      <th>std</th>\n",
       "      <td>15.394885</td>\n",
       "      <td>0.0</td>\n",
       "      <td>0.203611</td>\n",
       "      <td>0.070788</td>\n",
       "      <td>14.162028</td>\n",
       "    </tr>\n",
       "    <tr>\n",
       "      <th>min</th>\n",
       "      <td>1946.000000</td>\n",
       "      <td>0.0</td>\n",
       "      <td>0.000000</td>\n",
       "      <td>-0.249781</td>\n",
       "      <td>150.000000</td>\n",
       "    </tr>\n",
       "    <tr>\n",
       "      <th>25%</th>\n",
       "      <td>1954.000000</td>\n",
       "      <td>0.0</td>\n",
       "      <td>0.000000</td>\n",
       "      <td>-0.184652</td>\n",
       "      <td>163.000000</td>\n",
       "    </tr>\n",
       "    <tr>\n",
       "      <th>50%</th>\n",
       "      <td>1964.000000</td>\n",
       "      <td>0.0</td>\n",
       "      <td>0.000000</td>\n",
       "      <td>-0.124836</td>\n",
       "      <td>175.000000</td>\n",
       "    </tr>\n",
       "    <tr>\n",
       "      <th>75%</th>\n",
       "      <td>1980.000000</td>\n",
       "      <td>0.0</td>\n",
       "      <td>0.000000</td>\n",
       "      <td>-0.062749</td>\n",
       "      <td>187.000000</td>\n",
       "    </tr>\n",
       "    <tr>\n",
       "      <th>max</th>\n",
       "      <td>1996.000000</td>\n",
       "      <td>0.0</td>\n",
       "      <td>1.000000</td>\n",
       "      <td>-0.000056</td>\n",
       "      <td>199.000000</td>\n",
       "    </tr>\n",
       "  </tbody>\n",
       "</table>\n",
       "</div>"
      ],
      "text/plain": [
       "              year  outcome  outcomenext     difshare          bin\n",
       "count  2424.000000   2424.0  2424.000000  2424.000000  2424.000000\n",
       "mean   1967.764026      0.0     0.043317    -0.124739   174.548680\n",
       "std      15.394885      0.0     0.203611     0.070788    14.162028\n",
       "min    1946.000000      0.0     0.000000    -0.249781   150.000000\n",
       "25%    1954.000000      0.0     0.000000    -0.184652   163.000000\n",
       "50%    1964.000000      0.0     0.000000    -0.124836   175.000000\n",
       "75%    1980.000000      0.0     0.000000    -0.062749   187.000000\n",
       "max    1996.000000      0.0     1.000000    -0.000056   199.000000"
      ]
     },
     "execution_count": 6,
     "metadata": {},
     "output_type": "execute_result"
    }
   ],
   "source": [
    "# split the sample into two parts before and after cutoff\n",
    "cond = (df[\"difshare\"] >= -0.25) & (df[\"difshare\"] < 0)\n",
    "df_left = df[cond]\n",
    "\n",
    "cond = (df[\"difshare\"] >= 0) & (df[\"difshare\"] <= 0.25)\n",
    "df_right = df[cond]\n",
    "\n",
    "\n",
    "x_left = df_left[\"difshare\"].values.reshape(-1, 1)\n",
    "y_left = df_left[\"outcomenext\"].values.reshape(-1, 1)\n",
    "x_right = df_right[\"difshare\"].values.reshape(-1, 1)\n",
    "y_right = df_right[\"outcomenext\"].values.reshape(-1, 1)\n",
    "\n",
    "df_left.describe()"
   ]
  },
  {
   "cell_type": "code",
   "execution_count": 7,
   "metadata": {},
   "outputs": [
    {
     "name": "stderr",
     "output_type": "stream",
     "text": [
      "/home/peisenha/local/anaconda3/envs/teaching-microeconometrics/lib/python3.7/site-packages/sklearn/utils/validation.py:73: DataConversionWarning: A column-vector y was passed when a 1d array was expected. Please change the shape of y to (n_samples, ), for example using ravel().\n",
      "  return f(**kwargs)\n",
      "/home/peisenha/local/anaconda3/envs/teaching-microeconometrics/lib/python3.7/site-packages/sklearn/utils/validation.py:73: DataConversionWarning: A column-vector y was passed when a 1d array was expected. Please change the shape of y to (n_samples, ), for example using ravel().\n",
      "  return f(**kwargs)\n"
     ]
    },
    {
     "data": {
      "image/png": "[encoded data removed]",
      "text/plain": [
       "<Figure size 432x288 with 1 Axes>"
      ]
     },
     "metadata": {
      "needs_background": "light"
     },
     "output_type": "display_data"
    }
   ],
   "source": [
    "# apply Logistic Regression and extract propensity score\n",
    "lr_left = LogisticRegression(solver=\"newton-cg\", C=1e20)\n",
    "lr_left.fit(df_left[[\"difshare\"]], y_left)\n",
    "prob_left = lr_left.predict_proba(df_left[[\"difshare\"]])[:, 1]\n",
    "lr_right = LogisticRegression(solver=\"newton-cg\", C=1e20)\n",
    "lr_right.fit(x_right, y_right)\n",
    "prob_right = lr_right.predict_proba(x_right)[:, 1]\n",
    "\n",
    "# draw the plot\n",
    "fig, ax = plt.subplots()\n",
    "ax.set_xlim(-0.25, 0.25)\n",
    "ax.set_xticks(np.arange(-0.25, 0.251, step=0.05))\n",
    "ax.set_ylim(0.0, 1.0)\n",
    "ax.set_yticks(np.arange(0.0, 1.01, step=0.1))\n",
    "# dfm = dfm[(dfm[\"difshare\"] >= -0.25) & (dfm[\"difshare\"] <= 0.25)]\n",
    "# x = np.linspace(-0.25, 0.25, num=100)\n",
    "# ax.scatter(x, dfm[\"outcomenext\"], label=\"Local Average\")\n",
    "ax.axvline(0.0, linestyle=\":\")\n",
    "ax.plot(x_left, prob_left, label=\"Logit fit\")\n",
    "ax.plot(x_right, prob_right, label=\"Logit fit\")\n",
    "ax.set_xlabel(\"Vote Share Margin of Victory, Election t\")\n",
    "ax.set_ylabel(\"Probability of Winning Election t+1\")\n",
    "ax.legend()\n",
    "\n",
    "plt.show()"
   ]
  },
  {
   "cell_type": "code",
   "execution_count": 8,
   "metadata": {},
   "outputs": [],
   "source": [
    "# prob_left = lr_left.predict_proba(x_left)[:, 1]\n",
    "# lr_right = LogisticRegression(solver=\"newton-cg\", C=1e20)\n",
    "# lr_right.fit(x_right, y_right)\n",
    "# prob_right = lr_right.predict_proba(x_right)[:, 1]\n",
    "\n",
    "# draw the plot\n",
    "# fig, ax = plt.subplots()\n",
    "# ax.set_xlim(-0.25, 0.25)\n",
    "# ax.set_xticks(np.arange(-0.25, 0.251, step=0.05))\n",
    "# ax.set_ylim(0.0, 1.0)\n",
    "# ax.set_yticks(np.arange(0.0, 1.01, step=0.1))\n",
    "# dfm = dfm[(dfm[\"difshare\"] >= -0.25) & (dfm[\"difshare\"] <= 0.25)]\n",
    "# x = np.linspace(-0.25, 0.25, num=100)\n",
    "# ax.scatter(x, dfm[\"outcomenext\"], label=\"Local Average\")\n",
    "# ax.axvline(0.0, linestyle=\":\")\n",
    "# ax.plot(x_left, prob_left, label=\"Logit fit\")\n",
    "# ax.plot(x_right, prob_right, label=\"Logit fit\")\n",
    "# ax.set_xlabel(\"Vote Share Margin of Victory, Election t\")\n",
    "# ax.set_ylabel(\"Probability of Winning Election t+1\")\n",
    "# ax.legend()\n",
    "\n",
    "# plt.show()"
   ]
  },
  {
   "cell_type": "code",
   "execution_count": 9,
   "metadata": {},
   "outputs": [
    {
     "ename": "AssertionError",
     "evalue": "",
     "output_type": "error",
     "traceback": [
      "\u001b[0;31m---------------------------------------------------------------------------\u001b[0m",
      "\u001b[0;31mAssertionError\u001b[0m                            Traceback (most recent call last)",
      "\u001b[0;32m<ipython-input-9-d1143e13d0dc>\u001b[0m in \u001b[0;36m<module>\u001b[0;34m\u001b[0m\n\u001b[0;32m----> 1\u001b[0;31m \u001b[0;32mraise\u001b[0m \u001b[0mAssertionError\u001b[0m\u001b[0;34m\u001b[0m\u001b[0;34m\u001b[0m\u001b[0m\n\u001b[0m",
      "\u001b[0;31mAssertionError\u001b[0m: "
     ]
    }
   ],
   "source": [
    "raise AssertionError"
   ]
  },
  {
   "cell_type": "markdown",
   "metadata": {},
   "source": [
    "## Task C"
   ]
  },
  {
   "cell_type": "markdown",
   "metadata": {},
   "source": [
    "*LLR as a method restricts the estimation to observations close to the cutoff. It is based on the assumption that regression lines within the bins around the cutoff point are close to linear. That helps to avoid some of the drawbacks of other parametric/non-parametrics approaches (Lee & Lemieux (2010))*\n",
    "\n",
    "*Run the LLR with a specification $Y = \\alpha_r + \\tau D + \\beta X + \\gamma X D + \\epsilon $, where $X$ is rectricted by a bandwidth: $h ≥ X ≥ −h$. Interpret the result. Experiment with few bandwidths on your choice.*"
   ]
  },
  {
   "cell_type": "code",
   "execution_count": null,
   "metadata": {},
   "outputs": [],
   "source": [
    "for h in [0.25, 0.2, 0.1, 0.05, 0.01]:\n",
    "    dfreg = df[df[\"difshare\"].between(-h, h)]\n",
    "    rslt = smf.ols(formula=\"outcomenext ~ outcome + difshare + difshare*outcome\", data=dfreg).fit()\n",
    "    info = [h, rslt.params[1] * 100, rslt.pvalues[1]]\n",
    "    print(\" Bandwidth: {:>4}   Effect {:5.3f}%    pvalue {:5.3f}\".format(*info))"
   ]
  },
  {
   "cell_type": "markdown",
   "metadata": {},
   "source": [
    "## Task D"
   ]
  },
  {
   "cell_type": "markdown",
   "metadata": {},
   "source": [
    "*As you might find, the treatment effect result is sensitive to the bandwidth choice. In general, choosing a bandwidth in estimation involves finding an optimal balance between precision and bias. One the one hand, using a larger bandwidth yields more precise estimates as more observations are available to estimate the regression. On the other hand, the linear specification is less likely to be accurate (Lee & Lemieux (2010)).*\n",
    "\n",
    "*We are going to review one of the approaches for choosing a bandwidth – cross-validation “leave one out” procedure. The main idea is to take an observation i in the data, leave it out, run LLR, and use the estimates to predict the value of $Y$ at $X = X_i$. Proceeding with each observation separately on each side of the cutoff, we obtain the predicted values of $Y$ that can be compared to the actual values. The optimal bandwidth is then a value of $h$ that minimizes the mean square of the difference between the predicted and actual values of $Y$. And overall mean square error is simply the average of the squares of the prediction errors on each side of the cutoff.*\n",
    "\n",
    "*If you want to practice your Python skills, we recommend to work with the packages LeaveOneOut() and cross_val_score from sklearn.model selection and to write the code that finds the optimal bandwidth. Otherwise, we created our draft in auxiliary.py; you can use it to produce your solution. Draw the graph showing the relationship between the bandwidth and the mean square error. What is the optimal bandwidth for LLR in our framework?*"
   ]
  },
  {
   "cell_type": "code",
   "execution_count": null,
   "metadata": {},
   "outputs": [],
   "source": [
    "# create two sides around the cutoff\n",
    "df_right = df\n",
    "df_left = df[(df[\"difshare\"] >= -0.5) & (df[\"difshare\"] < 0)]\n",
    "df_right = df_right[(df_right[\"difshare\"] >= 0) & (df_right[\"difshare\"] <= 0.5)]\n",
    "# create necessary arrays\n",
    "position = np.linspace(0, 99, num=100).astype(int)\n",
    "width_left = np.linspace(199, 100, num=100).astype(int)\n",
    "error_mean_left = np.linspace(0, 0, num=100)\n",
    "width_right = np.linspace(200, 299, num=100).astype(int)\n",
    "error_mean_right = np.linspace(0, 0, num=100)\n",
    "# run cross-validation on each side\n",
    "for h, p in zip(width_left, position):\n",
    "    dfreg = df_left[(df_left[\"bin\"] >= h)]\n",
    "    X = dfreg[\"difshare\"].values.reshape(-1, 1)\n",
    "    y = dfreg[\"outcomenext\"].values.reshape(-1, 1)\n",
    "    loocv = LeaveOneOut()\n",
    "    model = LinearRegression()\n",
    "    results = cross_val_score(model, X, y, scoring=\"neg_mean_squared_error\", cv=loocv)\n",
    "    error_mean_left[p] = results.mean() * (-1)\n",
    "for h, p in zip(width_right, position):\n",
    "    dfreg = df_right[(df_right[\"bin\"] <= h)]\n",
    "    X = dfreg[\"difshare\"].values.reshape(-1, 1)\n",
    "    y = dfreg[\"outcomenext\"].values.reshape(-1, 1)\n",
    "    loocv = LeaveOneOut()\n",
    "    model = LinearRegression()\n",
    "    results = cross_val_score(model, X, y, scoring=\"neg_mean_squared_error\", cv=loocv)\n",
    "    error_mean_right[p] = results.mean() * (-1)"
   ]
  },
  {
   "cell_type": "code",
   "execution_count": null,
   "metadata": {},
   "outputs": [],
   "source": [
    "# find mean error on both sides of the cutoff and plot it\n",
    "error_mean_right_corr = error_mean_right[::-1]\n",
    "error = (error_mean_left + error_mean_right_corr) / 2\n",
    "bandwidth = np.linspace(0, 0.5, num=100)\n",
    "fig, ax = plt.subplots()\n",
    "ax.plot(bandwidth, error)\n",
    "ax.set_xlabel(\"Bandwidth\")\n",
    "ax.set_ylabel(\"Mean squared error\")\n",
    "plt.show()"
   ]
  },
  {
   "cell_type": "code",
   "execution_count": null,
   "metadata": {},
   "outputs": [],
   "source": [
    "df = pd.DataFrame({\"bandwidth\": bandwidth, \"error\": error}, columns=[\"bandwidth\", \"error\"])\n",
    "df = df[df.error == df.error.min()]\n",
    "print(\" Optimal bandwidth: {:5.3f}\".format(df.iloc[0, 0]))"
   ]
  },
  {
   "cell_type": "markdown",
   "metadata": {},
   "source": [
    "## References\n",
    "\n",
    "- Lee, D. S. (2008). [Randomized experiments from non-random selection in us house elections](https://www.sciencedirect.com/science/article/abs/pii/S0304407607001121). *Journal of Econometrics, 142*(2), 675–697.\n",
    "\n",
    "- Lee, D. S., & Lemieux, T. (2010). [Regression discontinuity designs in economics](https://www.aeaweb.org/articles?id=10.1257/jel.48.2.281). *Journal of Economic Literature, 48*, 281-355."
   ]
  }
 ],
 "metadata": {
  "kernelspec": {
   "display_name": "Python 3",
   "language": "python",
   "name": "python3"
  },
  "language_info": {
   "codemirror_mode": {
    "name": "ipython",
    "version": 3
   },
   "file_extension": ".py",
   "mimetype": "text/x-python",
   "name": "python",
   "nbconvert_exporter": "python",
   "pygments_lexer": "ipython3",
   "version": "3.7.7"
  }
 },
 "nbformat": 4,
 "nbformat_minor": 4
}
